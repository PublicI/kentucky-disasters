{
 "cells": [
  {
   "cell_type": "markdown",
   "metadata": {},
   "source": [
    "# Pike County, KY NFIP Analysis"
   ]
  },
  {
   "cell_type": "code",
   "execution_count": 1,
   "metadata": {},
   "outputs": [],
   "source": [
    "import pandas as pd\n",
    "import matplotlib.pyplot as plt\n",
    "plt.style.use(\"ggplot\")\n",
    "import os\n",
    "import us"
   ]
  },
  {
   "cell_type": "markdown",
   "metadata": {},
   "source": [
    "## Claims"
   ]
  },
  {
   "cell_type": "code",
   "execution_count": 2,
   "metadata": {},
   "outputs": [
    {
     "name": "stderr",
     "output_type": "stream",
     "text": [
      "C:\\Users\\zach.goldstein\\AppData\\Local\\Continuum\\anaconda3\\lib\\site-packages\\IPython\\core\\interactiveshell.py:3049: DtypeWarning: Columns (0,11,15,22,23,31,32,37) have mixed types. Specify dtype option on import or set low_memory=False.\n",
      "  interactivity=interactivity, compiler=compiler, result=result)\n"
     ]
    },
    {
     "name": "stdout",
     "output_type": "stream",
     "text": [
      "(2418007, 39)\n"
     ]
    },
    {
     "data": {
      "text/html": [
       "<div>\n",
       "<style scoped>\n",
       "    .dataframe tbody tr th:only-of-type {\n",
       "        vertical-align: middle;\n",
       "    }\n",
       "\n",
       "    .dataframe tbody tr th {\n",
       "        vertical-align: top;\n",
       "    }\n",
       "\n",
       "    .dataframe thead th {\n",
       "        text-align: right;\n",
       "    }\n",
       "</style>\n",
       "<table border=\"1\" class=\"dataframe\">\n",
       "  <thead>\n",
       "    <tr style=\"text-align: right;\">\n",
       "      <th></th>\n",
       "      <th>agriculturestructureindicator</th>\n",
       "      <th>asofdate</th>\n",
       "      <th>basefloodelevation</th>\n",
       "      <th>basementenclosurecrawlspacetype</th>\n",
       "      <th>reportedcity</th>\n",
       "      <th>condominiumindicator</th>\n",
       "      <th>policycount</th>\n",
       "      <th>countycode</th>\n",
       "      <th>crsdiscount</th>\n",
       "      <th>dateofloss</th>\n",
       "      <th>...</th>\n",
       "      <th>amountpaidonincreasedcostofcomplianceclaim</th>\n",
       "      <th>postfirmconstructionindicator</th>\n",
       "      <th>ratemethod</th>\n",
       "      <th>smallbusinessindicatorbuilding</th>\n",
       "      <th>state</th>\n",
       "      <th>totalbuildinginsurancecoverage</th>\n",
       "      <th>totalcontentsinsurancecoverage</th>\n",
       "      <th>yearofloss</th>\n",
       "      <th>reportedzip</th>\n",
       "      <th>primaryresidence</th>\n",
       "    </tr>\n",
       "  </thead>\n",
       "  <tbody>\n",
       "    <tr>\n",
       "      <th>0</th>\n",
       "      <td>NaN</td>\n",
       "      <td>2019-03-31</td>\n",
       "      <td>NaN</td>\n",
       "      <td>0.0</td>\n",
       "      <td>OCEANSIDE</td>\n",
       "      <td>N</td>\n",
       "      <td>1.0</td>\n",
       "      <td>6073.0</td>\n",
       "      <td>0.0</td>\n",
       "      <td>1998-02-07</td>\n",
       "      <td>...</td>\n",
       "      <td>NaN</td>\n",
       "      <td>N</td>\n",
       "      <td>7</td>\n",
       "      <td>NaN</td>\n",
       "      <td>CA</td>\n",
       "      <td>200000.0</td>\n",
       "      <td>50000.0</td>\n",
       "      <td>1998</td>\n",
       "      <td>92056</td>\n",
       "      <td>NaN</td>\n",
       "    </tr>\n",
       "    <tr>\n",
       "      <th>1</th>\n",
       "      <td>NaN</td>\n",
       "      <td>2019-03-31</td>\n",
       "      <td>NaN</td>\n",
       "      <td>0.0</td>\n",
       "      <td>NEW ORLEANS</td>\n",
       "      <td>N</td>\n",
       "      <td>1.0</td>\n",
       "      <td>22071.0</td>\n",
       "      <td>0.0</td>\n",
       "      <td>2005-08-29</td>\n",
       "      <td>...</td>\n",
       "      <td>NaN</td>\n",
       "      <td>N</td>\n",
       "      <td>7</td>\n",
       "      <td>NaN</td>\n",
       "      <td>LA</td>\n",
       "      <td>100000.0</td>\n",
       "      <td>40000.0</td>\n",
       "      <td>2005</td>\n",
       "      <td>70131</td>\n",
       "      <td>Y</td>\n",
       "    </tr>\n",
       "    <tr>\n",
       "      <th>2</th>\n",
       "      <td>NaN</td>\n",
       "      <td>2019-03-31</td>\n",
       "      <td>NaN</td>\n",
       "      <td>0.0</td>\n",
       "      <td>NAVARRE</td>\n",
       "      <td>N</td>\n",
       "      <td>1.0</td>\n",
       "      <td>12113.0</td>\n",
       "      <td>0.5</td>\n",
       "      <td>1998-09-28</td>\n",
       "      <td>...</td>\n",
       "      <td>0.0</td>\n",
       "      <td>N</td>\n",
       "      <td>1</td>\n",
       "      <td>NaN</td>\n",
       "      <td>FL</td>\n",
       "      <td>100000.0</td>\n",
       "      <td>50000.0</td>\n",
       "      <td>1998</td>\n",
       "      <td>32566</td>\n",
       "      <td>NaN</td>\n",
       "    </tr>\n",
       "    <tr>\n",
       "      <th>3</th>\n",
       "      <td>NaN</td>\n",
       "      <td>2019-03-31</td>\n",
       "      <td>NaN</td>\n",
       "      <td>1.0</td>\n",
       "      <td>BEAUFORT</td>\n",
       "      <td>N</td>\n",
       "      <td>1.0</td>\n",
       "      <td>45013.0</td>\n",
       "      <td>0.0</td>\n",
       "      <td>1994-10-07</td>\n",
       "      <td>...</td>\n",
       "      <td>NaN</td>\n",
       "      <td>N</td>\n",
       "      <td>7</td>\n",
       "      <td>NaN</td>\n",
       "      <td>SC</td>\n",
       "      <td>100000.0</td>\n",
       "      <td>25000.0</td>\n",
       "      <td>1994</td>\n",
       "      <td>29902</td>\n",
       "      <td>NaN</td>\n",
       "    </tr>\n",
       "    <tr>\n",
       "      <th>4</th>\n",
       "      <td>NaN</td>\n",
       "      <td>2019-03-31</td>\n",
       "      <td>NaN</td>\n",
       "      <td>0.0</td>\n",
       "      <td>MELBOURNE</td>\n",
       "      <td>N</td>\n",
       "      <td>1.0</td>\n",
       "      <td>12009.0</td>\n",
       "      <td>0.0</td>\n",
       "      <td>1996-03-11</td>\n",
       "      <td>...</td>\n",
       "      <td>NaN</td>\n",
       "      <td>Y</td>\n",
       "      <td>7</td>\n",
       "      <td>NaN</td>\n",
       "      <td>FL</td>\n",
       "      <td>100000.0</td>\n",
       "      <td>25000.0</td>\n",
       "      <td>1996</td>\n",
       "      <td>32940</td>\n",
       "      <td>NaN</td>\n",
       "    </tr>\n",
       "  </tbody>\n",
       "</table>\n",
       "<p>5 rows × 39 columns</p>\n",
       "</div>"
      ],
      "text/plain": [
       "  agriculturestructureindicator    asofdate  basefloodelevation  \\\n",
       "0                           NaN  2019-03-31                 NaN   \n",
       "1                           NaN  2019-03-31                 NaN   \n",
       "2                           NaN  2019-03-31                 NaN   \n",
       "3                           NaN  2019-03-31                 NaN   \n",
       "4                           NaN  2019-03-31                 NaN   \n",
       "\n",
       "   basementenclosurecrawlspacetype reportedcity condominiumindicator  \\\n",
       "0                              0.0    OCEANSIDE                    N   \n",
       "1                              0.0  NEW ORLEANS                    N   \n",
       "2                              0.0      NAVARRE                    N   \n",
       "3                              1.0     BEAUFORT                    N   \n",
       "4                              0.0    MELBOURNE                    N   \n",
       "\n",
       "   policycount  countycode  crsdiscount  dateofloss  ...  \\\n",
       "0          1.0      6073.0          0.0  1998-02-07  ...   \n",
       "1          1.0     22071.0          0.0  2005-08-29  ...   \n",
       "2          1.0     12113.0          0.5  1998-09-28  ...   \n",
       "3          1.0     45013.0          0.0  1994-10-07  ...   \n",
       "4          1.0     12009.0          0.0  1996-03-11  ...   \n",
       "\n",
       "  amountpaidonincreasedcostofcomplianceclaim postfirmconstructionindicator  \\\n",
       "0                                        NaN                             N   \n",
       "1                                        NaN                             N   \n",
       "2                                        0.0                             N   \n",
       "3                                        NaN                             N   \n",
       "4                                        NaN                             Y   \n",
       "\n",
       "   ratemethod  smallbusinessindicatorbuilding state  \\\n",
       "0           7                             NaN    CA   \n",
       "1           7                             NaN    LA   \n",
       "2           1                             NaN    FL   \n",
       "3           7                             NaN    SC   \n",
       "4           7                             NaN    FL   \n",
       "\n",
       "  totalbuildinginsurancecoverage  totalcontentsinsurancecoverage yearofloss  \\\n",
       "0                       200000.0                         50000.0       1998   \n",
       "1                       100000.0                         40000.0       2005   \n",
       "2                       100000.0                         50000.0       1998   \n",
       "3                       100000.0                         25000.0       1994   \n",
       "4                       100000.0                         25000.0       1996   \n",
       "\n",
       "   reportedzip  primaryresidence  \n",
       "0        92056               NaN  \n",
       "1        70131                 Y  \n",
       "2        32566               NaN  \n",
       "3        29902               NaN  \n",
       "4        32940               NaN  \n",
       "\n",
       "[5 rows x 39 columns]"
      ]
     },
     "execution_count": 2,
     "metadata": {},
     "output_type": "execute_result"
    }
   ],
   "source": [
    "df_claims = pd.read_csv(\"FIMA_NFIP_Redacted_Claims_Data_Set/openFEMA_claims20190331.csv\",\n",
    "                       low_memory = True)\n",
    "print(df_claims.shape)\n",
    "df_claims.head()"
   ]
  },
  {
   "cell_type": "code",
   "execution_count": 3,
   "metadata": {},
   "outputs": [
    {
     "data": {
      "text/plain": [
       "agriculturestructureindicator                  object\n",
       "asofdate                                       object\n",
       "basefloodelevation                            float64\n",
       "basementenclosurecrawlspacetype               float64\n",
       "reportedcity                                   object\n",
       "condominiumindicator                           object\n",
       "policycount                                   float64\n",
       "countycode                                    float64\n",
       "crsdiscount                                   float64\n",
       "dateofloss                                     object\n",
       "elevatedbuildingindicator                      object\n",
       "elevationcertificateindicator                  object\n",
       "elevationdifference                           float64\n",
       "censustract                                   float64\n",
       "floodzone                                      object\n",
       "houseworship                                   object\n",
       "latitude                                      float64\n",
       "locationofcontents                             object\n",
       "longitude                                     float64\n",
       "lowestadjacentgrade                           float64\n",
       "lowestfloorelevation                          float64\n",
       "numberoffloorsintheinsuredbuilding            float64\n",
       "nonprofitindicator                             object\n",
       "obstructiontype                                object\n",
       "occupancytype                                 float64\n",
       "originalconstructiondate                       object\n",
       "originalnbdate                                 object\n",
       "amountpaidonbuildingclaim                     float64\n",
       "amountpaidoncontentsclaim                     float64\n",
       "amountpaidonincreasedcostofcomplianceclaim    float64\n",
       "postfirmconstructionindicator                  object\n",
       "ratemethod                                     object\n",
       "smallbusinessindicatorbuilding                 object\n",
       "state                                          object\n",
       "totalbuildinginsurancecoverage                float64\n",
       "totalcontentsinsurancecoverage                float64\n",
       "yearofloss                                      int64\n",
       "reportedzip                                    object\n",
       "primaryresidence                               object\n",
       "dtype: object"
      ]
     },
     "execution_count": 3,
     "metadata": {},
     "output_type": "execute_result"
    }
   ],
   "source": [
    "df_claims.dtypes"
   ]
  },
  {
   "cell_type": "code",
   "execution_count": 4,
   "metadata": {},
   "outputs": [
    {
     "name": "stdout",
     "output_type": "stream",
     "text": [
      "(2306, 39)\n"
     ]
    },
    {
     "data": {
      "text/html": [
       "<div>\n",
       "<style scoped>\n",
       "    .dataframe tbody tr th:only-of-type {\n",
       "        vertical-align: middle;\n",
       "    }\n",
       "\n",
       "    .dataframe tbody tr th {\n",
       "        vertical-align: top;\n",
       "    }\n",
       "\n",
       "    .dataframe thead th {\n",
       "        text-align: right;\n",
       "    }\n",
       "</style>\n",
       "<table border=\"1\" class=\"dataframe\">\n",
       "  <thead>\n",
       "    <tr style=\"text-align: right;\">\n",
       "      <th></th>\n",
       "      <th>agriculturestructureindicator</th>\n",
       "      <th>asofdate</th>\n",
       "      <th>basefloodelevation</th>\n",
       "      <th>basementenclosurecrawlspacetype</th>\n",
       "      <th>reportedcity</th>\n",
       "      <th>condominiumindicator</th>\n",
       "      <th>policycount</th>\n",
       "      <th>countycode</th>\n",
       "      <th>crsdiscount</th>\n",
       "      <th>dateofloss</th>\n",
       "      <th>...</th>\n",
       "      <th>amountpaidonincreasedcostofcomplianceclaim</th>\n",
       "      <th>postfirmconstructionindicator</th>\n",
       "      <th>ratemethod</th>\n",
       "      <th>smallbusinessindicatorbuilding</th>\n",
       "      <th>state</th>\n",
       "      <th>totalbuildinginsurancecoverage</th>\n",
       "      <th>totalcontentsinsurancecoverage</th>\n",
       "      <th>yearofloss</th>\n",
       "      <th>reportedzip</th>\n",
       "      <th>primaryresidence</th>\n",
       "    </tr>\n",
       "  </thead>\n",
       "  <tbody>\n",
       "    <tr>\n",
       "      <th>15351</th>\n",
       "      <td>NaN</td>\n",
       "      <td>2019-03-31</td>\n",
       "      <td>NaN</td>\n",
       "      <td>0.0</td>\n",
       "      <td>TURKEY CREEK</td>\n",
       "      <td>N</td>\n",
       "      <td>1.0</td>\n",
       "      <td>21195.0</td>\n",
       "      <td>0.0</td>\n",
       "      <td>1992-03-09</td>\n",
       "      <td>...</td>\n",
       "      <td>NaN</td>\n",
       "      <td>N</td>\n",
       "      <td>1</td>\n",
       "      <td>NaN</td>\n",
       "      <td>KY</td>\n",
       "      <td>28000.0</td>\n",
       "      <td>0.0</td>\n",
       "      <td>1992</td>\n",
       "      <td>41570</td>\n",
       "      <td>NaN</td>\n",
       "    </tr>\n",
       "    <tr>\n",
       "      <th>24020</th>\n",
       "      <td>NaN</td>\n",
       "      <td>2019-03-31</td>\n",
       "      <td>671.0</td>\n",
       "      <td>0.0</td>\n",
       "      <td>PIKEVILLE</td>\n",
       "      <td>N</td>\n",
       "      <td>1.0</td>\n",
       "      <td>21195.0</td>\n",
       "      <td>0.5</td>\n",
       "      <td>2009-05-03</td>\n",
       "      <td>...</td>\n",
       "      <td>NaN</td>\n",
       "      <td>Y</td>\n",
       "      <td>1</td>\n",
       "      <td>NaN</td>\n",
       "      <td>KY</td>\n",
       "      <td>204100.0</td>\n",
       "      <td>51000.0</td>\n",
       "      <td>2009</td>\n",
       "      <td>41501</td>\n",
       "      <td>Y</td>\n",
       "    </tr>\n",
       "    <tr>\n",
       "      <th>40046</th>\n",
       "      <td>NaN</td>\n",
       "      <td>2019-03-31</td>\n",
       "      <td>NaN</td>\n",
       "      <td>0.0</td>\n",
       "      <td>PIKEVILLE</td>\n",
       "      <td>N</td>\n",
       "      <td>1.0</td>\n",
       "      <td>21195.0</td>\n",
       "      <td>0.5</td>\n",
       "      <td>2009-05-09</td>\n",
       "      <td>...</td>\n",
       "      <td>0.0</td>\n",
       "      <td>N</td>\n",
       "      <td>1</td>\n",
       "      <td>NaN</td>\n",
       "      <td>KY</td>\n",
       "      <td>167500.0</td>\n",
       "      <td>50000.0</td>\n",
       "      <td>2009</td>\n",
       "      <td>41501</td>\n",
       "      <td>Y</td>\n",
       "    </tr>\n",
       "    <tr>\n",
       "      <th>103445</th>\n",
       "      <td>NaN</td>\n",
       "      <td>2019-03-31</td>\n",
       "      <td>NaN</td>\n",
       "      <td>0.0</td>\n",
       "      <td>PIKEVILLE</td>\n",
       "      <td>N</td>\n",
       "      <td>1.0</td>\n",
       "      <td>21195.0</td>\n",
       "      <td>0.5</td>\n",
       "      <td>2002-05-02</td>\n",
       "      <td>...</td>\n",
       "      <td>0.0</td>\n",
       "      <td>N</td>\n",
       "      <td>1</td>\n",
       "      <td>NaN</td>\n",
       "      <td>KY</td>\n",
       "      <td>75000.0</td>\n",
       "      <td>100000.0</td>\n",
       "      <td>2002</td>\n",
       "      <td>41501</td>\n",
       "      <td>N</td>\n",
       "    </tr>\n",
       "    <tr>\n",
       "      <th>103989</th>\n",
       "      <td>NaN</td>\n",
       "      <td>2019-03-31</td>\n",
       "      <td>NaN</td>\n",
       "      <td>0.0</td>\n",
       "      <td>PIKEVILLE</td>\n",
       "      <td>N</td>\n",
       "      <td>1.0</td>\n",
       "      <td>21195.0</td>\n",
       "      <td>0.5</td>\n",
       "      <td>2009-05-08</td>\n",
       "      <td>...</td>\n",
       "      <td>0.0</td>\n",
       "      <td>N</td>\n",
       "      <td>1</td>\n",
       "      <td>NaN</td>\n",
       "      <td>KY</td>\n",
       "      <td>50000.0</td>\n",
       "      <td>0.0</td>\n",
       "      <td>2009</td>\n",
       "      <td>41501</td>\n",
       "      <td>Y</td>\n",
       "    </tr>\n",
       "  </tbody>\n",
       "</table>\n",
       "<p>5 rows × 39 columns</p>\n",
       "</div>"
      ],
      "text/plain": [
       "       agriculturestructureindicator    asofdate  basefloodelevation  \\\n",
       "15351                            NaN  2019-03-31                 NaN   \n",
       "24020                            NaN  2019-03-31               671.0   \n",
       "40046                            NaN  2019-03-31                 NaN   \n",
       "103445                           NaN  2019-03-31                 NaN   \n",
       "103989                           NaN  2019-03-31                 NaN   \n",
       "\n",
       "        basementenclosurecrawlspacetype  reportedcity condominiumindicator  \\\n",
       "15351                               0.0  TURKEY CREEK                    N   \n",
       "24020                               0.0     PIKEVILLE                    N   \n",
       "40046                               0.0     PIKEVILLE                    N   \n",
       "103445                              0.0     PIKEVILLE                    N   \n",
       "103989                              0.0     PIKEVILLE                    N   \n",
       "\n",
       "        policycount  countycode  crsdiscount  dateofloss  ...  \\\n",
       "15351           1.0     21195.0          0.0  1992-03-09  ...   \n",
       "24020           1.0     21195.0          0.5  2009-05-03  ...   \n",
       "40046           1.0     21195.0          0.5  2009-05-09  ...   \n",
       "103445          1.0     21195.0          0.5  2002-05-02  ...   \n",
       "103989          1.0     21195.0          0.5  2009-05-08  ...   \n",
       "\n",
       "       amountpaidonincreasedcostofcomplianceclaim  \\\n",
       "15351                                         NaN   \n",
       "24020                                         NaN   \n",
       "40046                                         0.0   \n",
       "103445                                        0.0   \n",
       "103989                                        0.0   \n",
       "\n",
       "       postfirmconstructionindicator  ratemethod  \\\n",
       "15351                              N           1   \n",
       "24020                              Y           1   \n",
       "40046                              N           1   \n",
       "103445                             N           1   \n",
       "103989                             N           1   \n",
       "\n",
       "        smallbusinessindicatorbuilding state totalbuildinginsurancecoverage  \\\n",
       "15351                              NaN    KY                        28000.0   \n",
       "24020                              NaN    KY                       204100.0   \n",
       "40046                              NaN    KY                       167500.0   \n",
       "103445                             NaN    KY                        75000.0   \n",
       "103989                             NaN    KY                        50000.0   \n",
       "\n",
       "        totalcontentsinsurancecoverage yearofloss  reportedzip  \\\n",
       "15351                              0.0       1992        41570   \n",
       "24020                          51000.0       2009        41501   \n",
       "40046                          50000.0       2009        41501   \n",
       "103445                        100000.0       2002        41501   \n",
       "103989                             0.0       2009        41501   \n",
       "\n",
       "        primaryresidence  \n",
       "15351                NaN  \n",
       "24020                  Y  \n",
       "40046                  Y  \n",
       "103445                 N  \n",
       "103989                 Y  \n",
       "\n",
       "[5 rows x 39 columns]"
      ]
     },
     "execution_count": 4,
     "metadata": {},
     "output_type": "execute_result"
    }
   ],
   "source": [
    "pike_fips = 21195\n",
    "df_claims_pike = df_claims[df_claims.countycode==pike_fips]\n",
    "print(df_claims_pike.shape)\n",
    "df_claims_pike.head()"
   ]
  },
  {
   "cell_type": "markdown",
   "metadata": {},
   "source": [
    "Compare to rest of country"
   ]
  },
  {
   "cell_type": "code",
   "execution_count": 5,
   "metadata": {},
   "outputs": [
    {
     "data": {
      "text/plain": [
       "countycode\n",
       "48201.0    163185\n",
       "22051.0    130656\n",
       "22071.0    124096\n",
       "48167.0     60530\n",
       "12086.0     58076\n",
       "dtype: int64"
      ]
     },
     "execution_count": 5,
     "metadata": {},
     "output_type": "execute_result"
    }
   ],
   "source": [
    "n_claims_by_county = df_claims.groupby(by = \"countycode\").size().sort_values(ascending = False)\n",
    "n_claims_by_county.head()"
   ]
  },
  {
   "cell_type": "code",
   "execution_count": 6,
   "metadata": {},
   "outputs": [
    {
     "data": {
      "image/png": "[encoded data removed]",
      "text/plain": [
       "<Figure size 432x288 with 1 Axes>"
      ]
     },
     "metadata": {
      "needs_background": "light"
     },
     "output_type": "display_data"
    }
   ],
   "source": [
    "n_claims_by_county.hist(bins = 100)\n",
    "plt.show()"
   ]
  },
  {
   "cell_type": "markdown",
   "metadata": {},
   "source": [
    "Compare to rest of state"
   ]
  },
  {
   "cell_type": "code",
   "execution_count": 7,
   "metadata": {},
   "outputs": [
    {
     "name": "stdout",
     "output_type": "stream",
     "text": [
      "(24429, 39)\n"
     ]
    },
    {
     "data": {
      "text/html": [
       "<div>\n",
       "<style scoped>\n",
       "    .dataframe tbody tr th:only-of-type {\n",
       "        vertical-align: middle;\n",
       "    }\n",
       "\n",
       "    .dataframe tbody tr th {\n",
       "        vertical-align: top;\n",
       "    }\n",
       "\n",
       "    .dataframe thead th {\n",
       "        text-align: right;\n",
       "    }\n",
       "</style>\n",
       "<table border=\"1\" class=\"dataframe\">\n",
       "  <thead>\n",
       "    <tr style=\"text-align: right;\">\n",
       "      <th></th>\n",
       "      <th>agriculturestructureindicator</th>\n",
       "      <th>asofdate</th>\n",
       "      <th>basefloodelevation</th>\n",
       "      <th>basementenclosurecrawlspacetype</th>\n",
       "      <th>reportedcity</th>\n",
       "      <th>condominiumindicator</th>\n",
       "      <th>policycount</th>\n",
       "      <th>countycode</th>\n",
       "      <th>crsdiscount</th>\n",
       "      <th>dateofloss</th>\n",
       "      <th>...</th>\n",
       "      <th>amountpaidonincreasedcostofcomplianceclaim</th>\n",
       "      <th>postfirmconstructionindicator</th>\n",
       "      <th>ratemethod</th>\n",
       "      <th>smallbusinessindicatorbuilding</th>\n",
       "      <th>state</th>\n",
       "      <th>totalbuildinginsurancecoverage</th>\n",
       "      <th>totalcontentsinsurancecoverage</th>\n",
       "      <th>yearofloss</th>\n",
       "      <th>reportedzip</th>\n",
       "      <th>primaryresidence</th>\n",
       "    </tr>\n",
       "  </thead>\n",
       "  <tbody>\n",
       "    <tr>\n",
       "      <th>0</th>\n",
       "      <td>NaN</td>\n",
       "      <td>2019-03-31</td>\n",
       "      <td>NaN</td>\n",
       "      <td>0.0</td>\n",
       "      <td>OCEANSIDE</td>\n",
       "      <td>N</td>\n",
       "      <td>1.0</td>\n",
       "      <td>6073.0</td>\n",
       "      <td>0.0</td>\n",
       "      <td>1998-02-07</td>\n",
       "      <td>...</td>\n",
       "      <td>NaN</td>\n",
       "      <td>N</td>\n",
       "      <td>7</td>\n",
       "      <td>NaN</td>\n",
       "      <td>CA</td>\n",
       "      <td>200000.0</td>\n",
       "      <td>50000.0</td>\n",
       "      <td>1998</td>\n",
       "      <td>92056</td>\n",
       "      <td>NaN</td>\n",
       "    </tr>\n",
       "    <tr>\n",
       "      <th>1</th>\n",
       "      <td>NaN</td>\n",
       "      <td>2019-03-31</td>\n",
       "      <td>NaN</td>\n",
       "      <td>0.0</td>\n",
       "      <td>NEW ORLEANS</td>\n",
       "      <td>N</td>\n",
       "      <td>1.0</td>\n",
       "      <td>22071.0</td>\n",
       "      <td>0.0</td>\n",
       "      <td>2005-08-29</td>\n",
       "      <td>...</td>\n",
       "      <td>NaN</td>\n",
       "      <td>N</td>\n",
       "      <td>7</td>\n",
       "      <td>NaN</td>\n",
       "      <td>LA</td>\n",
       "      <td>100000.0</td>\n",
       "      <td>40000.0</td>\n",
       "      <td>2005</td>\n",
       "      <td>70131</td>\n",
       "      <td>Y</td>\n",
       "    </tr>\n",
       "    <tr>\n",
       "      <th>2</th>\n",
       "      <td>NaN</td>\n",
       "      <td>2019-03-31</td>\n",
       "      <td>NaN</td>\n",
       "      <td>0.0</td>\n",
       "      <td>NAVARRE</td>\n",
       "      <td>N</td>\n",
       "      <td>1.0</td>\n",
       "      <td>12113.0</td>\n",
       "      <td>0.5</td>\n",
       "      <td>1998-09-28</td>\n",
       "      <td>...</td>\n",
       "      <td>0.0</td>\n",
       "      <td>N</td>\n",
       "      <td>1</td>\n",
       "      <td>NaN</td>\n",
       "      <td>FL</td>\n",
       "      <td>100000.0</td>\n",
       "      <td>50000.0</td>\n",
       "      <td>1998</td>\n",
       "      <td>32566</td>\n",
       "      <td>NaN</td>\n",
       "    </tr>\n",
       "    <tr>\n",
       "      <th>3</th>\n",
       "      <td>NaN</td>\n",
       "      <td>2019-03-31</td>\n",
       "      <td>NaN</td>\n",
       "      <td>1.0</td>\n",
       "      <td>BEAUFORT</td>\n",
       "      <td>N</td>\n",
       "      <td>1.0</td>\n",
       "      <td>45013.0</td>\n",
       "      <td>0.0</td>\n",
       "      <td>1994-10-07</td>\n",
       "      <td>...</td>\n",
       "      <td>NaN</td>\n",
       "      <td>N</td>\n",
       "      <td>7</td>\n",
       "      <td>NaN</td>\n",
       "      <td>SC</td>\n",
       "      <td>100000.0</td>\n",
       "      <td>25000.0</td>\n",
       "      <td>1994</td>\n",
       "      <td>29902</td>\n",
       "      <td>NaN</td>\n",
       "    </tr>\n",
       "    <tr>\n",
       "      <th>4</th>\n",
       "      <td>NaN</td>\n",
       "      <td>2019-03-31</td>\n",
       "      <td>NaN</td>\n",
       "      <td>0.0</td>\n",
       "      <td>MELBOURNE</td>\n",
       "      <td>N</td>\n",
       "      <td>1.0</td>\n",
       "      <td>12009.0</td>\n",
       "      <td>0.0</td>\n",
       "      <td>1996-03-11</td>\n",
       "      <td>...</td>\n",
       "      <td>NaN</td>\n",
       "      <td>Y</td>\n",
       "      <td>7</td>\n",
       "      <td>NaN</td>\n",
       "      <td>FL</td>\n",
       "      <td>100000.0</td>\n",
       "      <td>25000.0</td>\n",
       "      <td>1996</td>\n",
       "      <td>32940</td>\n",
       "      <td>NaN</td>\n",
       "    </tr>\n",
       "  </tbody>\n",
       "</table>\n",
       "<p>5 rows × 39 columns</p>\n",
       "</div>"
      ],
      "text/plain": [
       "  agriculturestructureindicator    asofdate  basefloodelevation  \\\n",
       "0                           NaN  2019-03-31                 NaN   \n",
       "1                           NaN  2019-03-31                 NaN   \n",
       "2                           NaN  2019-03-31                 NaN   \n",
       "3                           NaN  2019-03-31                 NaN   \n",
       "4                           NaN  2019-03-31                 NaN   \n",
       "\n",
       "   basementenclosurecrawlspacetype reportedcity condominiumindicator  \\\n",
       "0                              0.0    OCEANSIDE                    N   \n",
       "1                              0.0  NEW ORLEANS                    N   \n",
       "2                              0.0      NAVARRE                    N   \n",
       "3                              1.0     BEAUFORT                    N   \n",
       "4                              0.0    MELBOURNE                    N   \n",
       "\n",
       "   policycount  countycode  crsdiscount  dateofloss  ...  \\\n",
       "0          1.0      6073.0          0.0  1998-02-07  ...   \n",
       "1          1.0     22071.0          0.0  2005-08-29  ...   \n",
       "2          1.0     12113.0          0.5  1998-09-28  ...   \n",
       "3          1.0     45013.0          0.0  1994-10-07  ...   \n",
       "4          1.0     12009.0          0.0  1996-03-11  ...   \n",
       "\n",
       "  amountpaidonincreasedcostofcomplianceclaim postfirmconstructionindicator  \\\n",
       "0                                        NaN                             N   \n",
       "1                                        NaN                             N   \n",
       "2                                        0.0                             N   \n",
       "3                                        NaN                             N   \n",
       "4                                        NaN                             Y   \n",
       "\n",
       "   ratemethod  smallbusinessindicatorbuilding state  \\\n",
       "0           7                             NaN    CA   \n",
       "1           7                             NaN    LA   \n",
       "2           1                             NaN    FL   \n",
       "3           7                             NaN    SC   \n",
       "4           7                             NaN    FL   \n",
       "\n",
       "  totalbuildinginsurancecoverage  totalcontentsinsurancecoverage yearofloss  \\\n",
       "0                       200000.0                         50000.0       1998   \n",
       "1                       100000.0                         40000.0       2005   \n",
       "2                       100000.0                         50000.0       1998   \n",
       "3                       100000.0                         25000.0       1994   \n",
       "4                       100000.0                         25000.0       1996   \n",
       "\n",
       "   reportedzip  primaryresidence  \n",
       "0        92056               NaN  \n",
       "1        70131                 Y  \n",
       "2        32566               NaN  \n",
       "3        29902               NaN  \n",
       "4        32940               NaN  \n",
       "\n",
       "[5 rows x 39 columns]"
      ]
     },
     "execution_count": 7,
     "metadata": {},
     "output_type": "execute_result"
    }
   ],
   "source": [
    "df_claims_ky = df_claims[df_claims['state']==\"KY\"]\n",
    "print(df_claims_ky.shape)\n",
    "df_claims.head()\n",
    "#df_claims_ky.to_csv(\"kentucky_claims.csv\")"
   ]
  },
  {
   "cell_type": "code",
   "execution_count": 8,
   "metadata": {},
   "outputs": [
    {
     "name": "stdout",
     "output_type": "stream",
     "text": [
      "116\n"
     ]
    },
    {
     "data": {
      "text/plain": [
       "countycode\n",
       "21111.0    5280\n",
       "21071.0    2355\n",
       "21195.0    2306\n",
       "21073.0    1378\n",
       "21185.0     893\n",
       "dtype: int64"
      ]
     },
     "execution_count": 8,
     "metadata": {},
     "output_type": "execute_result"
    }
   ],
   "source": [
    "n_claims_by_county_ky = df_claims_ky.groupby(by = \"countycode\").size().sort_values(ascending = False)\n",
    "print(len(n_claims_by_county_ky))\n",
    "n_claims_by_county_ky.head()"
   ]
  },
  {
   "cell_type": "code",
   "execution_count": 9,
   "metadata": {},
   "outputs": [
    {
     "data": {
      "image/png": "[encoded data removed]",
      "text/plain": [
       "<Figure size 432x288 with 1 Axes>"
      ]
     },
     "metadata": {
      "needs_background": "light"
     },
     "output_type": "display_data"
    }
   ],
   "source": [
    "n_claims_by_county_ky.hist(bins = 20)\n",
    "plt.show()"
   ]
  },
  {
   "cell_type": "code",
   "execution_count": 10,
   "metadata": {},
   "outputs": [
    {
     "data": {
      "image/png": "[encoded data removed]",
      "text/plain": [
       "<Figure size 432x288 with 1 Axes>"
      ]
     },
     "metadata": {
      "needs_background": "light"
     },
     "output_type": "display_data"
    }
   ],
   "source": [
    "pike_claims_by_year = df_claims_pike.yearofloss.value_counts().sort_index()\n",
    "pike_claims_by_year.plot()\n",
    "plt.show()"
   ]
  },
  {
   "cell_type": "code",
   "execution_count": 11,
   "metadata": {
    "scrolled": true
   },
   "outputs": [
    {
     "name": "stdout",
     "output_type": "stream",
     "text": [
      "2009    223\n",
      "2010    103\n",
      "2011      7\n",
      "2012     17\n",
      "2013      9\n",
      "2014      5\n",
      "2015     44\n",
      "2016      4\n",
      "2017      7\n",
      "2018     13\n",
      "2019      1\n",
      "Name: yearofloss, dtype: int64\n"
     ]
    },
    {
     "data": {
      "text/plain": [
       "433"
      ]
     },
     "execution_count": 11,
     "metadata": {},
     "output_type": "execute_result"
    }
   ],
   "source": [
    "# Number of claims in Pike County over the past 10 years\n",
    "print(pike_claims_by_year.tail(11))\n",
    "pike_claims_by_year.tail(11).sum()"
   ]
  },
  {
   "cell_type": "code",
   "execution_count": 12,
   "metadata": {},
   "outputs": [
    {
     "data": {
      "image/png": "[encoded data removed]",
      "text/plain": [
       "<Figure size 432x288 with 1 Axes>"
      ]
     },
     "metadata": {
      "needs_background": "light"
     },
     "output_type": "display_data"
    }
   ],
   "source": [
    "ky_claims_by_year = df_claims_ky.yearofloss.value_counts().sort_index()\n",
    "ky_claims_by_year.plot()\n",
    "plt.show()"
   ]
  },
  {
   "cell_type": "code",
   "execution_count": 13,
   "metadata": {},
   "outputs": [
    {
     "data": {
      "text/plain": [
       "PIKEVILLE       668\n",
       "TOLER           244\n",
       "BELFRY          170\n",
       "S WILLIAMSON     99\n",
       "FREEBURN         75\n",
       "Name: reportedcity, dtype: int64"
      ]
     },
     "execution_count": 13,
     "metadata": {},
     "output_type": "execute_result"
    }
   ],
   "source": [
    "df_claims_pike.reportedcity.value_counts().head()"
   ]
  },
  {
   "cell_type": "code",
   "execution_count": 14,
   "metadata": {},
   "outputs": [
    {
     "data": {
      "text/plain": [
       "countycode\n",
       "21111.0    1767\n",
       "21195.0     433\n",
       "21071.0     423\n",
       "21185.0     375\n",
       "21073.0     233\n",
       "dtype: int64"
      ]
     },
     "execution_count": 14,
     "metadata": {},
     "output_type": "execute_result"
    }
   ],
   "source": [
    "n_claims_by_county_ky_decade = df_claims_ky[df_claims_ky['yearofloss']>=2009].groupby(by = \"countycode\").size().sort_values(ascending = False)\n",
    "n_claims_by_county_ky_decade.head()"
   ]
  },
  {
   "cell_type": "markdown",
   "metadata": {},
   "source": [
    "## Policies"
   ]
  },
  {
   "cell_type": "markdown",
   "metadata": {},
   "source": [
    "Kentucky Policies dataset"
   ]
  },
  {
   "cell_type": "code",
   "execution_count": 15,
   "metadata": {},
   "outputs": [
    {
     "name": "stderr",
     "output_type": "stream",
     "text": [
      "C:\\Users\\zach.goldstein\\AppData\\Local\\Continuum\\anaconda3\\lib\\site-packages\\IPython\\core\\interactiveshell.py:3049: DtypeWarning: Columns (1,18,24,26,42) have mixed types. Specify dtype option on import or set low_memory=False.\n",
      "  interactivity=interactivity, compiler=compiler, result=result)\n"
     ]
    },
    {
     "name": "stdout",
     "output_type": "stream",
     "text": [
      "(256954, 46)\n"
     ]
    },
    {
     "data": {
      "text/html": [
       "<div>\n",
       "<style scoped>\n",
       "    .dataframe tbody tr th:only-of-type {\n",
       "        vertical-align: middle;\n",
       "    }\n",
       "\n",
       "    .dataframe tbody tr th {\n",
       "        vertical-align: top;\n",
       "    }\n",
       "\n",
       "    .dataframe thead th {\n",
       "        text-align: right;\n",
       "    }\n",
       "</style>\n",
       "<table border=\"1\" class=\"dataframe\">\n",
       "  <thead>\n",
       "    <tr style=\"text-align: right;\">\n",
       "      <th></th>\n",
       "      <th>Unnamed: 0</th>\n",
       "      <th>agriculturestructureindicator</th>\n",
       "      <th>basefloodelevation</th>\n",
       "      <th>basementenclosurecrawlspacetype</th>\n",
       "      <th>cancellationdateoffloodpolicy</th>\n",
       "      <th>censustract</th>\n",
       "      <th>condominiumindicator</th>\n",
       "      <th>construction</th>\n",
       "      <th>countycode</th>\n",
       "      <th>crsdiscount</th>\n",
       "      <th>...</th>\n",
       "      <th>primaryresidenceindicator</th>\n",
       "      <th>propertystate</th>\n",
       "      <th>propertyzipcode</th>\n",
       "      <th>ratemethod</th>\n",
       "      <th>regularemergencyprogramindicator</th>\n",
       "      <th>reportedcity</th>\n",
       "      <th>smallbusinessindicatorbuilding</th>\n",
       "      <th>totalbuildinginsurancecoverage</th>\n",
       "      <th>totalcontentsinsurancecoverage</th>\n",
       "      <th>totalinsurancepremiumofthepolicy</th>\n",
       "    </tr>\n",
       "  </thead>\n",
       "  <tbody>\n",
       "    <tr>\n",
       "      <th>0</th>\n",
       "      <td>0</td>\n",
       "      <td>NaN</td>\n",
       "      <td>NaN</td>\n",
       "      <td>2.0</td>\n",
       "      <td>NaN</td>\n",
       "      <td>2.101396e+10</td>\n",
       "      <td>N</td>\n",
       "      <td>N</td>\n",
       "      <td>21013.0</td>\n",
       "      <td>0.0</td>\n",
       "      <td>...</td>\n",
       "      <td>Y</td>\n",
       "      <td>KY</td>\n",
       "      <td>40977</td>\n",
       "      <td>1</td>\n",
       "      <td>R</td>\n",
       "      <td>PINEVILLE</td>\n",
       "      <td>NaN</td>\n",
       "      <td>20000</td>\n",
       "      <td>0</td>\n",
       "      <td>237</td>\n",
       "    </tr>\n",
       "    <tr>\n",
       "      <th>1</th>\n",
       "      <td>1</td>\n",
       "      <td>NaN</td>\n",
       "      <td>NaN</td>\n",
       "      <td>0.0</td>\n",
       "      <td>NaN</td>\n",
       "      <td>2.107192e+10</td>\n",
       "      <td>N</td>\n",
       "      <td>N</td>\n",
       "      <td>21071.0</td>\n",
       "      <td>0.0</td>\n",
       "      <td>...</td>\n",
       "      <td>N</td>\n",
       "      <td>KY</td>\n",
       "      <td>41649</td>\n",
       "      <td>1</td>\n",
       "      <td>R</td>\n",
       "      <td>MARTIN</td>\n",
       "      <td>NaN</td>\n",
       "      <td>103700</td>\n",
       "      <td>0</td>\n",
       "      <td>936</td>\n",
       "    </tr>\n",
       "    <tr>\n",
       "      <th>2</th>\n",
       "      <td>2</td>\n",
       "      <td>NaN</td>\n",
       "      <td>670.0</td>\n",
       "      <td>0.0</td>\n",
       "      <td>NaN</td>\n",
       "      <td>2.119593e+10</td>\n",
       "      <td>N</td>\n",
       "      <td>N</td>\n",
       "      <td>21195.0</td>\n",
       "      <td>0.5</td>\n",
       "      <td>...</td>\n",
       "      <td>N</td>\n",
       "      <td>KY</td>\n",
       "      <td>41503</td>\n",
       "      <td>1</td>\n",
       "      <td>R</td>\n",
       "      <td>S WILLIAMSON</td>\n",
       "      <td>NaN</td>\n",
       "      <td>70700</td>\n",
       "      <td>0</td>\n",
       "      <td>617</td>\n",
       "    </tr>\n",
       "    <tr>\n",
       "      <th>3</th>\n",
       "      <td>3</td>\n",
       "      <td>NaN</td>\n",
       "      <td>448.0</td>\n",
       "      <td>0.0</td>\n",
       "      <td>NaN</td>\n",
       "      <td>2.102902e+10</td>\n",
       "      <td>N</td>\n",
       "      <td>N</td>\n",
       "      <td>21029.0</td>\n",
       "      <td>0.0</td>\n",
       "      <td>...</td>\n",
       "      <td>N</td>\n",
       "      <td>KY</td>\n",
       "      <td>40165</td>\n",
       "      <td>1</td>\n",
       "      <td>R</td>\n",
       "      <td>SHEPHERDSVLLE</td>\n",
       "      <td>NaN</td>\n",
       "      <td>99200</td>\n",
       "      <td>0</td>\n",
       "      <td>250</td>\n",
       "    </tr>\n",
       "    <tr>\n",
       "      <th>4</th>\n",
       "      <td>4</td>\n",
       "      <td>NaN</td>\n",
       "      <td>NaN</td>\n",
       "      <td>0.0</td>\n",
       "      <td>NaN</td>\n",
       "      <td>2.101396e+10</td>\n",
       "      <td>N</td>\n",
       "      <td>N</td>\n",
       "      <td>21013.0</td>\n",
       "      <td>0.0</td>\n",
       "      <td>...</td>\n",
       "      <td>N</td>\n",
       "      <td>KY</td>\n",
       "      <td>40965</td>\n",
       "      <td>1</td>\n",
       "      <td>R</td>\n",
       "      <td>MIDDLESBORO</td>\n",
       "      <td>NaN</td>\n",
       "      <td>45000</td>\n",
       "      <td>0</td>\n",
       "      <td>395</td>\n",
       "    </tr>\n",
       "  </tbody>\n",
       "</table>\n",
       "<p>5 rows × 46 columns</p>\n",
       "</div>"
      ],
      "text/plain": [
       "   Unnamed: 0 agriculturestructureindicator  basefloodelevation  \\\n",
       "0           0                           NaN                 NaN   \n",
       "1           1                           NaN                 NaN   \n",
       "2           2                           NaN               670.0   \n",
       "3           3                           NaN               448.0   \n",
       "4           4                           NaN                 NaN   \n",
       "\n",
       "   basementenclosurecrawlspacetype cancellationdateoffloodpolicy  \\\n",
       "0                              2.0                           NaN   \n",
       "1                              0.0                           NaN   \n",
       "2                              0.0                           NaN   \n",
       "3                              0.0                           NaN   \n",
       "4                              0.0                           NaN   \n",
       "\n",
       "    censustract condominiumindicator construction  countycode  crsdiscount  \\\n",
       "0  2.101396e+10                    N            N     21013.0          0.0   \n",
       "1  2.107192e+10                    N            N     21071.0          0.0   \n",
       "2  2.119593e+10                    N            N     21195.0          0.5   \n",
       "3  2.102902e+10                    N            N     21029.0          0.0   \n",
       "4  2.101396e+10                    N            N     21013.0          0.0   \n",
       "\n",
       "   ... primaryresidenceindicator propertystate propertyzipcode ratemethod  \\\n",
       "0  ...                         Y            KY           40977          1   \n",
       "1  ...                         N            KY           41649          1   \n",
       "2  ...                         N            KY           41503          1   \n",
       "3  ...                         N            KY           40165          1   \n",
       "4  ...                         N            KY           40965          1   \n",
       "\n",
       "   regularemergencyprogramindicator   reportedcity  \\\n",
       "0                                 R      PINEVILLE   \n",
       "1                                 R         MARTIN   \n",
       "2                                 R   S WILLIAMSON   \n",
       "3                                 R  SHEPHERDSVLLE   \n",
       "4                                 R    MIDDLESBORO   \n",
       "\n",
       "  smallbusinessindicatorbuilding  totalbuildinginsurancecoverage  \\\n",
       "0                            NaN                           20000   \n",
       "1                            NaN                          103700   \n",
       "2                            NaN                           70700   \n",
       "3                            NaN                           99200   \n",
       "4                            NaN                           45000   \n",
       "\n",
       "  totalcontentsinsurancecoverage  totalinsurancepremiumofthepolicy  \n",
       "0                              0                               237  \n",
       "1                              0                               936  \n",
       "2                              0                               617  \n",
       "3                              0                               250  \n",
       "4                              0                               395  \n",
       "\n",
       "[5 rows x 46 columns]"
      ]
     },
     "execution_count": 15,
     "metadata": {},
     "output_type": "execute_result"
    }
   ],
   "source": [
    "df_ky_policies = pd.read_csv(\"kentucky_policies.csv\")\n",
    "print(df_ky_policies.shape)\n",
    "df_ky_policies.head()"
   ]
  },
  {
   "cell_type": "code",
   "execution_count": 16,
   "metadata": {},
   "outputs": [
    {
     "name": "stdout",
     "output_type": "stream",
     "text": [
      "(15305, 46)\n"
     ]
    },
    {
     "data": {
      "text/html": [
       "<div>\n",
       "<style scoped>\n",
       "    .dataframe tbody tr th:only-of-type {\n",
       "        vertical-align: middle;\n",
       "    }\n",
       "\n",
       "    .dataframe tbody tr th {\n",
       "        vertical-align: top;\n",
       "    }\n",
       "\n",
       "    .dataframe thead th {\n",
       "        text-align: right;\n",
       "    }\n",
       "</style>\n",
       "<table border=\"1\" class=\"dataframe\">\n",
       "  <thead>\n",
       "    <tr style=\"text-align: right;\">\n",
       "      <th></th>\n",
       "      <th>Unnamed: 0</th>\n",
       "      <th>agriculturestructureindicator</th>\n",
       "      <th>basefloodelevation</th>\n",
       "      <th>basementenclosurecrawlspacetype</th>\n",
       "      <th>cancellationdateoffloodpolicy</th>\n",
       "      <th>censustract</th>\n",
       "      <th>condominiumindicator</th>\n",
       "      <th>construction</th>\n",
       "      <th>countycode</th>\n",
       "      <th>crsdiscount</th>\n",
       "      <th>...</th>\n",
       "      <th>primaryresidenceindicator</th>\n",
       "      <th>propertystate</th>\n",
       "      <th>propertyzipcode</th>\n",
       "      <th>ratemethod</th>\n",
       "      <th>regularemergencyprogramindicator</th>\n",
       "      <th>reportedcity</th>\n",
       "      <th>smallbusinessindicatorbuilding</th>\n",
       "      <th>totalbuildinginsurancecoverage</th>\n",
       "      <th>totalcontentsinsurancecoverage</th>\n",
       "      <th>totalinsurancepremiumofthepolicy</th>\n",
       "    </tr>\n",
       "  </thead>\n",
       "  <tbody>\n",
       "    <tr>\n",
       "      <th>2</th>\n",
       "      <td>2</td>\n",
       "      <td>NaN</td>\n",
       "      <td>670.0</td>\n",
       "      <td>0.0</td>\n",
       "      <td>NaN</td>\n",
       "      <td>2.119593e+10</td>\n",
       "      <td>N</td>\n",
       "      <td>N</td>\n",
       "      <td>21195.0</td>\n",
       "      <td>0.5</td>\n",
       "      <td>...</td>\n",
       "      <td>N</td>\n",
       "      <td>KY</td>\n",
       "      <td>41503</td>\n",
       "      <td>1</td>\n",
       "      <td>R</td>\n",
       "      <td>S WILLIAMSON</td>\n",
       "      <td>NaN</td>\n",
       "      <td>70700</td>\n",
       "      <td>0</td>\n",
       "      <td>617</td>\n",
       "    </tr>\n",
       "    <tr>\n",
       "      <th>6</th>\n",
       "      <td>6</td>\n",
       "      <td>NaN</td>\n",
       "      <td>NaN</td>\n",
       "      <td>0.0</td>\n",
       "      <td>NaN</td>\n",
       "      <td>2.119593e+10</td>\n",
       "      <td>N</td>\n",
       "      <td>N</td>\n",
       "      <td>21195.0</td>\n",
       "      <td>0.5</td>\n",
       "      <td>...</td>\n",
       "      <td>N</td>\n",
       "      <td>KY</td>\n",
       "      <td>41503</td>\n",
       "      <td>1</td>\n",
       "      <td>R</td>\n",
       "      <td>S WILLIAMSON</td>\n",
       "      <td>NaN</td>\n",
       "      <td>500000</td>\n",
       "      <td>449200</td>\n",
       "      <td>8620</td>\n",
       "    </tr>\n",
       "    <tr>\n",
       "      <th>45</th>\n",
       "      <td>45</td>\n",
       "      <td>NaN</td>\n",
       "      <td>NaN</td>\n",
       "      <td>1.0</td>\n",
       "      <td>2012-01-27</td>\n",
       "      <td>2.119593e+10</td>\n",
       "      <td>N</td>\n",
       "      <td>N</td>\n",
       "      <td>21195.0</td>\n",
       "      <td>0.5</td>\n",
       "      <td>...</td>\n",
       "      <td>N</td>\n",
       "      <td>KY</td>\n",
       "      <td>41501</td>\n",
       "      <td>1</td>\n",
       "      <td>R</td>\n",
       "      <td>PIKEVILLE</td>\n",
       "      <td>NaN</td>\n",
       "      <td>500000</td>\n",
       "      <td>318400</td>\n",
       "      <td>5398</td>\n",
       "    </tr>\n",
       "    <tr>\n",
       "      <th>96</th>\n",
       "      <td>96</td>\n",
       "      <td>NaN</td>\n",
       "      <td>NaN</td>\n",
       "      <td>0.0</td>\n",
       "      <td>NaN</td>\n",
       "      <td>2.119593e+10</td>\n",
       "      <td>N</td>\n",
       "      <td>N</td>\n",
       "      <td>21195.0</td>\n",
       "      <td>0.5</td>\n",
       "      <td>...</td>\n",
       "      <td>Y</td>\n",
       "      <td>KY</td>\n",
       "      <td>41522</td>\n",
       "      <td>1</td>\n",
       "      <td>R</td>\n",
       "      <td>ELKHORN CITY</td>\n",
       "      <td>NaN</td>\n",
       "      <td>126400</td>\n",
       "      <td>24600</td>\n",
       "      <td>1050</td>\n",
       "    </tr>\n",
       "    <tr>\n",
       "      <th>121</th>\n",
       "      <td>121</td>\n",
       "      <td>NaN</td>\n",
       "      <td>933.0</td>\n",
       "      <td>3.0</td>\n",
       "      <td>NaN</td>\n",
       "      <td>2.119593e+10</td>\n",
       "      <td>N</td>\n",
       "      <td>N</td>\n",
       "      <td>21195.0</td>\n",
       "      <td>0.5</td>\n",
       "      <td>...</td>\n",
       "      <td>Y</td>\n",
       "      <td>KY</td>\n",
       "      <td>41522</td>\n",
       "      <td>1</td>\n",
       "      <td>R</td>\n",
       "      <td>ELKHORN CITY</td>\n",
       "      <td>NaN</td>\n",
       "      <td>140800</td>\n",
       "      <td>0</td>\n",
       "      <td>391</td>\n",
       "    </tr>\n",
       "  </tbody>\n",
       "</table>\n",
       "<p>5 rows × 46 columns</p>\n",
       "</div>"
      ],
      "text/plain": [
       "     Unnamed: 0 agriculturestructureindicator  basefloodelevation  \\\n",
       "2             2                           NaN               670.0   \n",
       "6             6                           NaN                 NaN   \n",
       "45           45                           NaN                 NaN   \n",
       "96           96                           NaN                 NaN   \n",
       "121         121                           NaN               933.0   \n",
       "\n",
       "     basementenclosurecrawlspacetype cancellationdateoffloodpolicy  \\\n",
       "2                                0.0                           NaN   \n",
       "6                                0.0                           NaN   \n",
       "45                               1.0                    2012-01-27   \n",
       "96                               0.0                           NaN   \n",
       "121                              3.0                           NaN   \n",
       "\n",
       "      censustract condominiumindicator construction  countycode  crsdiscount  \\\n",
       "2    2.119593e+10                    N            N     21195.0          0.5   \n",
       "6    2.119593e+10                    N            N     21195.0          0.5   \n",
       "45   2.119593e+10                    N            N     21195.0          0.5   \n",
       "96   2.119593e+10                    N            N     21195.0          0.5   \n",
       "121  2.119593e+10                    N            N     21195.0          0.5   \n",
       "\n",
       "     ... primaryresidenceindicator propertystate propertyzipcode ratemethod  \\\n",
       "2    ...                         N            KY           41503          1   \n",
       "6    ...                         N            KY           41503          1   \n",
       "45   ...                         N            KY           41501          1   \n",
       "96   ...                         Y            KY           41522          1   \n",
       "121  ...                         Y            KY           41522          1   \n",
       "\n",
       "     regularemergencyprogramindicator  reportedcity  \\\n",
       "2                                   R  S WILLIAMSON   \n",
       "6                                   R  S WILLIAMSON   \n",
       "45                                  R     PIKEVILLE   \n",
       "96                                  R  ELKHORN CITY   \n",
       "121                                 R  ELKHORN CITY   \n",
       "\n",
       "    smallbusinessindicatorbuilding  totalbuildinginsurancecoverage  \\\n",
       "2                              NaN                           70700   \n",
       "6                              NaN                          500000   \n",
       "45                             NaN                          500000   \n",
       "96                             NaN                          126400   \n",
       "121                            NaN                          140800   \n",
       "\n",
       "    totalcontentsinsurancecoverage  totalinsurancepremiumofthepolicy  \n",
       "2                                0                               617  \n",
       "6                           449200                              8620  \n",
       "45                          318400                              5398  \n",
       "96                           24600                              1050  \n",
       "121                              0                               391  \n",
       "\n",
       "[5 rows x 46 columns]"
      ]
     },
     "execution_count": 16,
     "metadata": {},
     "output_type": "execute_result"
    }
   ],
   "source": [
    "pike_fips = 21195\n",
    "df_policies_pike = df_ky_policies[df_ky_policies.countycode==pike_fips]\n",
    "print(df_policies_pike.shape)\n",
    "df_policies_pike.head()"
   ]
  },
  {
   "cell_type": "markdown",
   "metadata": {},
   "source": [
    "Compare to rest of country"
   ]
  },
  {
   "cell_type": "code",
   "execution_count": 17,
   "metadata": {},
   "outputs": [
    {
     "data": {
      "text/plain": [
       "countycode\n",
       "21111.0    55659\n",
       "21059.0    21273\n",
       "21195.0    15305\n",
       "21071.0    12138\n",
       "21029.0     8579\n",
       "dtype: int64"
      ]
     },
     "execution_count": 17,
     "metadata": {},
     "output_type": "execute_result"
    }
   ],
   "source": [
    "n_policies_by_county = df_ky_policies.groupby(by = \"countycode\").size().sort_values(ascending = False)\n",
    "n_policies_by_county.head()"
   ]
  },
  {
   "cell_type": "code",
   "execution_count": 18,
   "metadata": {},
   "outputs": [
    {
     "data": {
      "image/png": "[encoded data removed]",
      "text/plain": [
       "<Figure size 432x288 with 1 Axes>"
      ]
     },
     "metadata": {
      "needs_background": "light"
     },
     "output_type": "display_data"
    }
   ],
   "source": [
    "n_policies_by_county.hist(bins = 100)\n",
    "plt.show()"
   ]
  },
  {
   "cell_type": "markdown",
   "metadata": {},
   "source": [
    "Compare to rest of state"
   ]
  },
  {
   "cell_type": "code",
   "execution_count": 19,
   "metadata": {},
   "outputs": [
    {
     "name": "stdout",
     "output_type": "stream",
     "text": [
      "119\n"
     ]
    },
    {
     "data": {
      "text/plain": [
       "countycode\n",
       "21111.0    55659\n",
       "21059.0    21273\n",
       "21195.0    15305\n",
       "21071.0    12138\n",
       "21029.0     8579\n",
       "dtype: int64"
      ]
     },
     "execution_count": 19,
     "metadata": {},
     "output_type": "execute_result"
    }
   ],
   "source": [
    "n_policies_by_county_ky = df_ky_policies.groupby(by = \"countycode\").size().sort_values(ascending = False)\n",
    "print(len(n_policies_by_county_ky))\n",
    "n_policies_by_county_ky.head()"
   ]
  },
  {
   "cell_type": "code",
   "execution_count": 20,
   "metadata": {
    "scrolled": true
   },
   "outputs": [
    {
     "data": {
      "image/png": "[encoded data removed]",
      "text/plain": [
       "<Figure size 432x288 with 1 Axes>"
      ]
     },
     "metadata": {
      "needs_background": "light"
     },
     "output_type": "display_data"
    }
   ],
   "source": [
    "n_policies_by_county_ky.hist(bins = 20)\n",
    "plt.show()"
   ]
  },
  {
   "cell_type": "code",
   "execution_count": 21,
   "metadata": {},
   "outputs": [
    {
     "data": {
      "text/plain": [
       "15305"
      ]
     },
     "execution_count": 21,
     "metadata": {},
     "output_type": "execute_result"
    }
   ],
   "source": [
    "len(df_policies_pike)"
   ]
  },
  {
   "cell_type": "code",
   "execution_count": 22,
   "metadata": {
    "scrolled": true
   },
   "outputs": [
    {
     "data": {
      "text/plain": [
       "Index(['Unnamed: 0', 'agriculturestructureindicator', 'basefloodelevation',\n",
       "       'basementenclosurecrawlspacetype', 'cancellationdateoffloodpolicy',\n",
       "       'censustract', 'condominiumindicator', 'construction', 'countycode',\n",
       "       'crsdiscount', 'deductibleamountinbuildingcoverage',\n",
       "       'deductibleamountincontentscoverage', 'elevatedbuildingindicator',\n",
       "       'elevationcertificateindicator', 'elevationdifference',\n",
       "       'federalpolicyfee', 'floodzone', 'hfiaa_sur', 'houseofworshipindicator',\n",
       "       'latitude', 'locationofcontents', 'longitude', 'lowestadjacentgrade',\n",
       "       'lowestfloorelevation', 'nonprofitindicator',\n",
       "       'numberoffloorsininsuredbuilding', 'obstructiontype', 'occupancytype',\n",
       "       'originalconstructiondate', 'originalnbdate', 'policycost',\n",
       "       'policycount', 'policyeffectivedate', 'policyteminationdate',\n",
       "       'policytermindicator', 'postfirmconstructionindicator',\n",
       "       'primaryresidenceindicator', 'propertystate', 'propertyzipcode',\n",
       "       'ratemethod', 'regularemergencyprogramindicator', 'reportedcity',\n",
       "       'smallbusinessindicatorbuilding', 'totalbuildinginsurancecoverage',\n",
       "       'totalcontentsinsurancecoverage', 'totalinsurancepremiumofthepolicy'],\n",
       "      dtype='object')"
      ]
     },
     "execution_count": 22,
     "metadata": {},
     "output_type": "execute_result"
    }
   ],
   "source": [
    "df_ky_policies.columns"
   ]
  },
  {
   "cell_type": "code",
   "execution_count": 23,
   "metadata": {},
   "outputs": [
    {
     "data": {
      "text/plain": [
       "PIKEVILLE       7019\n",
       "BELFRY           965\n",
       "ELKHORN CITY     703\n",
       "VIRGIE           612\n",
       "RACCOON          592\n",
       "Name: reportedcity, dtype: int64"
      ]
     },
     "execution_count": 23,
     "metadata": {},
     "output_type": "execute_result"
    }
   ],
   "source": [
    "df_policies_pike.reportedcity.value_counts().head()"
   ]
  }
 ],
 "metadata": {
  "kernelspec": {
   "display_name": "Python 3",
   "language": "python",
   "name": "python3"
  },
  "language_info": {
   "codemirror_mode": {
    "name": "ipython",
    "version": 3
   },
   "file_extension": ".py",
   "mimetype": "text/x-python",
   "name": "python",
   "nbconvert_exporter": "python",
   "pygments_lexer": "ipython3",
   "version": "3.7.3"
  }
 },
 "nbformat": 4,
 "nbformat_minor": 2
}
