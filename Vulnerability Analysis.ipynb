{
 "cells": [
  {
   "cell_type": "code",
   "execution_count": 1,
   "metadata": {},
   "outputs": [],
   "source": [
    "import pandas as pd\n",
    "import os\n",
    "import requests"
   ]
  },
  {
   "cell_type": "code",
   "execution_count": 2,
   "metadata": {},
   "outputs": [
    {
     "data": {
      "text/plain": [
       "['.git',\n",
       " '.gitignore',\n",
       " '.ipynb_checkpoints',\n",
       " 'census_api_key.txt',\n",
       " 'disaster_vulnerability_score_819.xlsx',\n",
       " 'fema_funding_by_state',\n",
       " 'Kentucky NFIP Analysis.ipynb',\n",
       " 'Kentucky_Story_Data_Analysis.ipynb',\n",
       " 'ky_snap_info.csv',\n",
       " 'README.md',\n",
       " 'state_snap_info.csv',\n",
       " 'top_hmgp_funding',\n",
       " 'top_public_assistance_funding',\n",
       " 'top_total_funding',\n",
       " 'Vulnerability Analysis.ipynb']"
      ]
     },
     "execution_count": 2,
     "metadata": {},
     "output_type": "execute_result"
    }
   ],
   "source": [
    "os.listdir()"
   ]
  },
  {
   "cell_type": "code",
   "execution_count": 3,
   "metadata": {},
   "outputs": [
    {
     "name": "stdout",
     "output_type": "stream",
     "text": [
      "(9275, 65)\n"
     ]
    },
    {
     "data": {
      "text/html": [
       "<div>\n",
       "<style scoped>\n",
       "    .dataframe tbody tr th:only-of-type {\n",
       "        vertical-align: middle;\n",
       "    }\n",
       "\n",
       "    .dataframe tbody tr th {\n",
       "        vertical-align: top;\n",
       "    }\n",
       "\n",
       "    .dataframe thead th {\n",
       "        text-align: right;\n",
       "    }\n",
       "</style>\n",
       "<table border=\"1\" class=\"dataframe\">\n",
       "  <thead>\n",
       "    <tr style=\"text-align: right;\">\n",
       "      <th></th>\n",
       "      <th>disasternumber</th>\n",
       "      <th>ihprogramdeclared</th>\n",
       "      <th>iaprogramdeclared</th>\n",
       "      <th>paprogramdeclared</th>\n",
       "      <th>hmprogramdeclared</th>\n",
       "      <th>state</th>\n",
       "      <th>declarationdate</th>\n",
       "      <th>fydeclared</th>\n",
       "      <th>incidenttype</th>\n",
       "      <th>title</th>\n",
       "      <th>...</th>\n",
       "      <th>unemployment_rate_us</th>\n",
       "      <th>elderly_score</th>\n",
       "      <th>youth_score</th>\n",
       "      <th>race_score</th>\n",
       "      <th>unemploy_score</th>\n",
       "      <th>med_hh_inc_score</th>\n",
       "      <th>hh_snap_score</th>\n",
       "      <th>hh_renter_score</th>\n",
       "      <th>total_score</th>\n",
       "      <th>region</th>\n",
       "    </tr>\n",
       "  </thead>\n",
       "  <tbody>\n",
       "    <tr>\n",
       "      <th>0</th>\n",
       "      <td>4301</td>\n",
       "      <td>False</td>\n",
       "      <td>False</td>\n",
       "      <td>True</td>\n",
       "      <td>True</td>\n",
       "      <td>CA</td>\n",
       "      <td>2017-02-14T18:15:00</td>\n",
       "      <td>2017</td>\n",
       "      <td>Severe Storm(s)</td>\n",
       "      <td>SEVERE WINTER STORMS, FLOODING, AND MUDSLIDES</td>\n",
       "      <td>...</td>\n",
       "      <td>0.065527</td>\n",
       "      <td>0.0</td>\n",
       "      <td>1.0</td>\n",
       "      <td>1.0</td>\n",
       "      <td>1.0</td>\n",
       "      <td>1</td>\n",
       "      <td>1.0</td>\n",
       "      <td>1.0</td>\n",
       "      <td>6.0</td>\n",
       "      <td>West</td>\n",
       "    </tr>\n",
       "    <tr>\n",
       "      <th>1</th>\n",
       "      <td>4077</td>\n",
       "      <td>False</td>\n",
       "      <td>False</td>\n",
       "      <td>True</td>\n",
       "      <td>True</td>\n",
       "      <td>OH</td>\n",
       "      <td>2012-08-20T16:10:00</td>\n",
       "      <td>2012</td>\n",
       "      <td>Severe Storm(s)</td>\n",
       "      <td>SEVERE STORMS AND STRAIGHT-LINE WINDS</td>\n",
       "      <td>...</td>\n",
       "      <td>0.092866</td>\n",
       "      <td>1.0</td>\n",
       "      <td>0.0</td>\n",
       "      <td>0.0</td>\n",
       "      <td>1.0</td>\n",
       "      <td>1</td>\n",
       "      <td>1.0</td>\n",
       "      <td>0.0</td>\n",
       "      <td>4.0</td>\n",
       "      <td>Midwest</td>\n",
       "    </tr>\n",
       "    <tr>\n",
       "      <th>2</th>\n",
       "      <td>4317</td>\n",
       "      <td>False</td>\n",
       "      <td>False</td>\n",
       "      <td>True</td>\n",
       "      <td>True</td>\n",
       "      <td>MO</td>\n",
       "      <td>2017-06-02T16:56:00</td>\n",
       "      <td>2017</td>\n",
       "      <td>Flood</td>\n",
       "      <td>SEVERE STORMS, TORNADOES, STRAIGHT-LINE WINDS ...</td>\n",
       "      <td>...</td>\n",
       "      <td>0.065527</td>\n",
       "      <td>1.0</td>\n",
       "      <td>1.0</td>\n",
       "      <td>0.0</td>\n",
       "      <td>1.0</td>\n",
       "      <td>1</td>\n",
       "      <td>1.0</td>\n",
       "      <td>1.0</td>\n",
       "      <td>6.0</td>\n",
       "      <td>Midwest</td>\n",
       "    </tr>\n",
       "    <tr>\n",
       "      <th>3</th>\n",
       "      <td>1980</td>\n",
       "      <td>True</td>\n",
       "      <td>False</td>\n",
       "      <td>False</td>\n",
       "      <td>True</td>\n",
       "      <td>MO</td>\n",
       "      <td>2011-05-09T21:00:00</td>\n",
       "      <td>2011</td>\n",
       "      <td>Severe Storm(s)</td>\n",
       "      <td>SEVERE STORMS, TORNADOES, AND FLOODING</td>\n",
       "      <td>...</td>\n",
       "      <td>0.086840</td>\n",
       "      <td>1.0</td>\n",
       "      <td>0.0</td>\n",
       "      <td>0.0</td>\n",
       "      <td>0.0</td>\n",
       "      <td>1</td>\n",
       "      <td>1.0</td>\n",
       "      <td>1.0</td>\n",
       "      <td>4.0</td>\n",
       "      <td>Midwest</td>\n",
       "    </tr>\n",
       "    <tr>\n",
       "      <th>4</th>\n",
       "      <td>1915</td>\n",
       "      <td>False</td>\n",
       "      <td>False</td>\n",
       "      <td>True</td>\n",
       "      <td>True</td>\n",
       "      <td>SD</td>\n",
       "      <td>2010-05-13T16:29:00</td>\n",
       "      <td>2010</td>\n",
       "      <td>Flood</td>\n",
       "      <td>FLOODING</td>\n",
       "      <td>...</td>\n",
       "      <td>0.079228</td>\n",
       "      <td>0.0</td>\n",
       "      <td>0.0</td>\n",
       "      <td>0.0</td>\n",
       "      <td>0.0</td>\n",
       "      <td>1</td>\n",
       "      <td>0.0</td>\n",
       "      <td>1.0</td>\n",
       "      <td>2.0</td>\n",
       "      <td>Midwest</td>\n",
       "    </tr>\n",
       "  </tbody>\n",
       "</table>\n",
       "<p>5 rows × 65 columns</p>\n",
       "</div>"
      ],
      "text/plain": [
       "   disasternumber  ihprogramdeclared  iaprogramdeclared  paprogramdeclared  \\\n",
       "0            4301              False              False               True   \n",
       "1            4077              False              False               True   \n",
       "2            4317              False              False               True   \n",
       "3            1980               True              False              False   \n",
       "4            1915              False              False               True   \n",
       "\n",
       "   hmprogramdeclared state      declarationdate  fydeclared     incidenttype  \\\n",
       "0               True    CA  2017-02-14T18:15:00        2017  Severe Storm(s)   \n",
       "1               True    OH  2012-08-20T16:10:00        2012  Severe Storm(s)   \n",
       "2               True    MO  2017-06-02T16:56:00        2017            Flood   \n",
       "3               True    MO  2011-05-09T21:00:00        2011  Severe Storm(s)   \n",
       "4               True    SD  2010-05-13T16:29:00        2010            Flood   \n",
       "\n",
       "                                               title  ...  \\\n",
       "0      SEVERE WINTER STORMS, FLOODING, AND MUDSLIDES  ...   \n",
       "1              SEVERE STORMS AND STRAIGHT-LINE WINDS  ...   \n",
       "2  SEVERE STORMS, TORNADOES, STRAIGHT-LINE WINDS ...  ...   \n",
       "3             SEVERE STORMS, TORNADOES, AND FLOODING  ...   \n",
       "4                                          FLOODING   ...   \n",
       "\n",
       "  unemployment_rate_us elderly_score youth_score race_score  unemploy_score  \\\n",
       "0             0.065527           0.0         1.0        1.0             1.0   \n",
       "1             0.092866           1.0         0.0        0.0             1.0   \n",
       "2             0.065527           1.0         1.0        0.0             1.0   \n",
       "3             0.086840           1.0         0.0        0.0             0.0   \n",
       "4             0.079228           0.0         0.0        0.0             0.0   \n",
       "\n",
       "  med_hh_inc_score  hh_snap_score hh_renter_score total_score   region  \n",
       "0                1            1.0             1.0         6.0     West  \n",
       "1                1            1.0             0.0         4.0  Midwest  \n",
       "2                1            1.0             1.0         6.0  Midwest  \n",
       "3                1            1.0             1.0         4.0  Midwest  \n",
       "4                1            0.0             1.0         2.0  Midwest  \n",
       "\n",
       "[5 rows x 65 columns]"
      ]
     },
     "execution_count": 3,
     "metadata": {},
     "output_type": "execute_result"
    }
   ],
   "source": [
    "df = pd.read_excel(\"disaster_vulnerability_score_819.xlsx\")\n",
    "print(df.shape)\n",
    "df.head()"
   ]
  },
  {
   "cell_type": "code",
   "execution_count": null,
   "metadata": {},
   "outputs": [],
   "source": [
    "key = open('census_api_key.txt','r').read()"
   ]
  },
  {
   "cell_type": "code",
   "execution_count": null,
   "metadata": {},
   "outputs": [],
   "source": [
    "# A function that takes a state and a year, and returns the proportion of people in that state/year who receive SNAP\n",
    "def state_year_SNAP_prop(state, year, key = key):\n",
    "    if int(year) > 2017: year = \"2017\" # ACS data isn't available beyond 2017\n",
    "    snap_stat = \"B22001_002E\"\n",
    "    base_url = \"https://api.census.gov/data/%s/acs/acs5?\" % year\n",
    "    if year == \"2009\": base_url = \"https://api.census.gov/data/2009/acs5?\" # API url is different for 2009\n",
    "    end_url = \"get=NAME,%s&for=state:%s&key=%s\" % (snap_stat, state, key)\n",
    "    response = requests.get(base_url+end_url)\n",
    "    snap_recipients = response.json()[1][1]\n",
    "    \n",
    "    no_snap_stat = \"B22001_005E\"\n",
    "    end_url = \"get=NAME,%s&for=state:%s&key=%s\" % (no_snap_stat, state, key)\n",
    "    response = requests.get(base_url+end_url)\n",
    "    no_snap_recipients = response.json()[1][1]\n",
    "    return int(snap_recipients) / (int(snap_recipients)+int(no_snap_recipients))"
   ]
  },
  {
   "cell_type": "code",
   "execution_count": null,
   "metadata": {},
   "outputs": [
    {
     "data": {
      "text/plain": [
       "2009    1171\n",
       "2010    1114\n",
       "2011    1762\n",
       "2012     630\n",
       "2013     691\n",
       "2014     470\n",
       "2015    1098\n",
       "2016     646\n",
       "2017    1051\n",
       "2018     642\n",
       "Name: calendar_year, dtype: int64"
      ]
     },
     "execution_count": 6,
     "metadata": {},
     "output_type": "execute_result"
    }
   ],
   "source": [
    "# Use this as year instead of fiscal year\n",
    "df['calendar_year'] = df['incidentbegindate'].apply(lambda x: x[:4])\n",
    "df['calendar_year'].value_counts().sort_index()"
   ]
  },
  {
   "cell_type": "code",
   "execution_count": null,
   "metadata": {},
   "outputs": [],
   "source": [
    "# Create table with an entry for each state-year\n",
    "table = df.drop_duplicates(subset = ['calendar_year','state'])[['calendar_year','state','state_fips']].copy()\n",
    "\n",
    "# These are states that we're focusing on for the story\n",
    "states_of_interest = ['KY','OK','WV','SD','NE','KS','AR','WY','ND','LA','MN','ID']\n",
    "table = table[table['state'].isin(states_of_interest)]\n",
    "for state in states_of_interest: # checking to make sure I didn't miss any\n",
    "    if state not in table['state'].unique(): print(state)\n",
    "        \n",
    "# A count of how many counties (or county equivalents) are in the dataset for a particular state/year        \n",
    "table['county_eq'] = table.apply(lambda row: \n",
    "    df[(df['state_fips']==row['state_fips'])&(df['calendar_year']==row['calendar_year'])]['declaredcountyarea'].nunique(),\n",
    "                                 axis = 1)\n",
    "table['state_fips'] = table['state_fips'].apply(lambda x: str(x) if x >= 10 else '0'+str(x))\n",
    "\n",
    "# The proportion of people in a state/year who use SNAP\n",
    "table['state_year_snap'] = table.apply(lambda row:\n",
    "            state_year_SNAP_prop(state = row['state_fips'], year = row['calendar_year']), axis = 1)\n",
    "table.head()"
   ]
  },
  {
   "cell_type": "code",
   "execution_count": null,
   "metadata": {},
   "outputs": [],
   "source": [
    "# The number of counties where the proportion of SNAP recipients is higher than the statewide proportion\n",
    "table['higher_than_state_snap_counties'] = table.apply(lambda row:\n",
    "    len(df[(df['state_fips']==int(row['state_fips']))&(df['calendar_year']==row['calendar_year'])&(df['pct_hh_snap']>row['state_year_snap'])].drop_duplicates(\n",
    "        subset = ['declaredcountyarea'])), axis = 1)\n",
    "table['prop_counties_higher_snap_than_state'] = table['higher_than_state_snap_counties'] / table['county_eq']\n",
    "table.head()"
   ]
  },
  {
   "cell_type": "code",
   "execution_count": null,
   "metadata": {},
   "outputs": [],
   "source": [
    "# Nationwide SNAP recipient rates by year\n",
    "usa_snap_rates = df[['pct_hh_snap_us','calendar_year']].drop_duplicates()\n",
    "usa_snap_rates.index = usa_snap_rates['calendar_year']\n",
    "usa_snap_rates.sort_index()"
   ]
  },
  {
   "cell_type": "code",
   "execution_count": null,
   "metadata": {},
   "outputs": [],
   "source": [
    "# Nationwide SNAP recipient rate for the year of the row\n",
    "table['usa_snap'] = table.apply(lambda row:\n",
    "    usa_snap_rates.loc[row['calendar_year']]['pct_hh_snap_us'], axis = 1)\n",
    "\n",
    "# Counties with higher than national SNAP rate for a given year\n",
    "table['higher_than_usa_snap_counties'] = table.apply(lambda row:\n",
    "len(df[(df['state_fips']==int(row['state_fips']))&(df['calendar_year']==row['calendar_year'])&(df['pct_hh_snap']>row['usa_snap'])].drop_duplicates(\n",
    "        subset = ['declaredcountyarea'])), axis = 1)\n",
    "table['prop_counties_higher_snap_than_usa'] = table['higher_than_usa_snap_counties'] / table['county_eq']\n",
    "table.head()"
   ]
  },
  {
   "cell_type": "code",
   "execution_count": null,
   "metadata": {},
   "outputs": [],
   "source": [
    "#table.to_csv(\"state_snap_info.csv\", index = False)"
   ]
  },
  {
   "cell_type": "code",
   "execution_count": null,
   "metadata": {},
   "outputs": [],
   "source": [
    "# A subset of the table for Kentucky only\n",
    "ky_table = table[table['state']==\"KY\"].sort_values(by = \"calendar_year\")\n",
    "ky_table"
   ]
  },
  {
   "cell_type": "code",
   "execution_count": null,
   "metadata": {},
   "outputs": [],
   "source": [
    "#ky_table.to_csv(\"ky_snap_info.csv\", index = False)"
   ]
  }
 ],
 "metadata": {
  "kernelspec": {
   "display_name": "Python 3",
   "language": "python",
   "name": "python3"
  },
  "language_info": {
   "codemirror_mode": {
    "name": "ipython",
    "version": 3
   },
   "file_extension": ".py",
   "mimetype": "text/x-python",
   "name": "python",
   "nbconvert_exporter": "python",
   "pygments_lexer": "ipython3",
   "version": "3.7.3"
  }
 },
 "nbformat": 4,
 "nbformat_minor": 2
}
